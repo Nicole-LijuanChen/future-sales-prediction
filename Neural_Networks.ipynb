{
 "cells": [
  {
   "cell_type": "code",
   "execution_count": 5,
   "metadata": {},
   "outputs": [],
   "source": [
    "import pandas as pd\n",
    "import numpy as np\n",
    "import random\n",
    "import matplotlib.pyplot as plt\n",
    "import seaborn as sns\n",
    "\n",
    "%matplotlib inline\n",
    "plt.style.use('ggplot')\n",
    "\n",
    "from sklearn.preprocessing import StandardScaler\n",
    "from sklearn.preprocessing import MinMaxScaler\n",
    "from tensorflow.keras.models import Sequential\n",
    "from tensorflow.keras.layers import Dense, Dropout, Activation\n",
    "from tensorflow.keras.layers import LSTM\n",
    "\n",
    "\n",
    "\n",
    "\n",
    "\n",
    "import sklearn\n",
    "from sklearn import preprocessing, model_selection\n",
    "import tensorflow as tf\n",
    "\n",
    "import src.lstm_helper as lh\n",
    "import src.time_series_helpers as th"
   ]
  },
  {
   "cell_type": "code",
   "execution_count": 6,
   "metadata": {},
   "outputs": [],
   "source": [
    "#reference:https://machinelearningmastery.com/how-to-develop-lstm-models-for-time-series-forecasting/\n",
    "# https://heartbeat.fritz.ai/building-a-neural-network-from-scratch-using-python-part-1-6d399df8d432\n",
    "# https://www.kaggle.com/alexdance/store-item-combination-part-6-deep-learning\n",
    "# https://www.tensorflow.org/tutorials/structured_data/time_series"
   ]
  },
  {
   "cell_type": "code",
   "execution_count": 7,
   "metadata": {},
   "outputs": [
    {
     "name": "stdout",
     "output_type": "stream",
     "text": [
      "\u001b[34m__pycache__\u001b[m\u001b[m            lstm_helper.py         time_series_helpers.py\r\n"
     ]
    }
   ],
   "source": [
    "!ls src/"
   ]
  },
  {
   "cell_type": "code",
   "execution_count": 8,
   "metadata": {},
   "outputs": [
    {
     "name": "stdout",
     "output_type": "stream",
     "text": [
      "lstm_data.csv         sample_submission.csv test.csv\r\n",
      "processed_train.csv   store_item.csv        train.csv\r\n"
     ]
    }
   ],
   "source": [
    "!ls data/"
   ]
  },
  {
   "cell_type": "markdown",
   "metadata": {},
   "source": [
    "### Predict future sales but non time-series models."
   ]
  },
  {
   "cell_type": "markdown",
   "metadata": {},
   "source": [
    "#### Fearture engineering"
   ]
  },
  {
   "cell_type": "code",
   "execution_count": 9,
   "metadata": {},
   "outputs": [
    {
     "data": {
      "text/plain": [
       "(1826, 501)"
      ]
     },
     "execution_count": 9,
     "metadata": {},
     "output_type": "execute_result"
    }
   ],
   "source": [
    "#load dataset that is processed by store by item\n",
    "path = 'data/store_item.csv'\n",
    "df = pd.read_csv(path)\n",
    "df.shape"
   ]
  },
  {
   "cell_type": "code",
   "execution_count": 10,
   "metadata": {},
   "outputs": [
    {
     "data": {
      "text/html": [
       "<div>\n",
       "<style scoped>\n",
       "    .dataframe tbody tr th:only-of-type {\n",
       "        vertical-align: middle;\n",
       "    }\n",
       "\n",
       "    .dataframe tbody tr th {\n",
       "        vertical-align: top;\n",
       "    }\n",
       "\n",
       "    .dataframe thead th {\n",
       "        text-align: right;\n",
       "    }\n",
       "</style>\n",
       "<table border=\"1\" class=\"dataframe\">\n",
       "  <thead>\n",
       "    <tr style=\"text-align: right;\">\n",
       "      <th></th>\n",
       "      <th>date</th>\n",
       "      <th>s1_i1</th>\n",
       "      <th>s1_i2</th>\n",
       "      <th>s1_i3</th>\n",
       "      <th>s1_i4</th>\n",
       "      <th>s1_i5</th>\n",
       "      <th>s1_i6</th>\n",
       "      <th>s1_i7</th>\n",
       "      <th>s1_i8</th>\n",
       "      <th>s1_i9</th>\n",
       "      <th>...</th>\n",
       "      <th>s10_i41</th>\n",
       "      <th>s10_i42</th>\n",
       "      <th>s10_i43</th>\n",
       "      <th>s10_i44</th>\n",
       "      <th>s10_i45</th>\n",
       "      <th>s10_i46</th>\n",
       "      <th>s10_i47</th>\n",
       "      <th>s10_i48</th>\n",
       "      <th>s10_i49</th>\n",
       "      <th>s10_i50</th>\n",
       "    </tr>\n",
       "  </thead>\n",
       "  <tbody>\n",
       "    <tr>\n",
       "      <th>0</th>\n",
       "      <td>2013-01-01</td>\n",
       "      <td>13</td>\n",
       "      <td>33</td>\n",
       "      <td>15</td>\n",
       "      <td>10</td>\n",
       "      <td>11</td>\n",
       "      <td>31</td>\n",
       "      <td>25</td>\n",
       "      <td>33</td>\n",
       "      <td>18</td>\n",
       "      <td>...</td>\n",
       "      <td>12</td>\n",
       "      <td>20</td>\n",
       "      <td>24</td>\n",
       "      <td>17</td>\n",
       "      <td>45</td>\n",
       "      <td>37</td>\n",
       "      <td>11</td>\n",
       "      <td>25</td>\n",
       "      <td>17</td>\n",
       "      <td>33</td>\n",
       "    </tr>\n",
       "    <tr>\n",
       "      <th>1</th>\n",
       "      <td>2013-01-02</td>\n",
       "      <td>11</td>\n",
       "      <td>43</td>\n",
       "      <td>30</td>\n",
       "      <td>11</td>\n",
       "      <td>6</td>\n",
       "      <td>36</td>\n",
       "      <td>23</td>\n",
       "      <td>37</td>\n",
       "      <td>23</td>\n",
       "      <td>...</td>\n",
       "      <td>10</td>\n",
       "      <td>22</td>\n",
       "      <td>29</td>\n",
       "      <td>10</td>\n",
       "      <td>45</td>\n",
       "      <td>33</td>\n",
       "      <td>13</td>\n",
       "      <td>24</td>\n",
       "      <td>13</td>\n",
       "      <td>37</td>\n",
       "    </tr>\n",
       "    <tr>\n",
       "      <th>2</th>\n",
       "      <td>2013-01-03</td>\n",
       "      <td>14</td>\n",
       "      <td>23</td>\n",
       "      <td>14</td>\n",
       "      <td>8</td>\n",
       "      <td>8</td>\n",
       "      <td>18</td>\n",
       "      <td>34</td>\n",
       "      <td>38</td>\n",
       "      <td>25</td>\n",
       "      <td>...</td>\n",
       "      <td>17</td>\n",
       "      <td>27</td>\n",
       "      <td>43</td>\n",
       "      <td>20</td>\n",
       "      <td>56</td>\n",
       "      <td>28</td>\n",
       "      <td>16</td>\n",
       "      <td>29</td>\n",
       "      <td>19</td>\n",
       "      <td>46</td>\n",
       "    </tr>\n",
       "    <tr>\n",
       "      <th>3</th>\n",
       "      <td>2013-01-04</td>\n",
       "      <td>13</td>\n",
       "      <td>18</td>\n",
       "      <td>10</td>\n",
       "      <td>19</td>\n",
       "      <td>9</td>\n",
       "      <td>19</td>\n",
       "      <td>36</td>\n",
       "      <td>54</td>\n",
       "      <td>22</td>\n",
       "      <td>...</td>\n",
       "      <td>13</td>\n",
       "      <td>24</td>\n",
       "      <td>27</td>\n",
       "      <td>12</td>\n",
       "      <td>50</td>\n",
       "      <td>44</td>\n",
       "      <td>11</td>\n",
       "      <td>39</td>\n",
       "      <td>23</td>\n",
       "      <td>51</td>\n",
       "    </tr>\n",
       "    <tr>\n",
       "      <th>4</th>\n",
       "      <td>2013-01-05</td>\n",
       "      <td>10</td>\n",
       "      <td>34</td>\n",
       "      <td>23</td>\n",
       "      <td>12</td>\n",
       "      <td>8</td>\n",
       "      <td>31</td>\n",
       "      <td>38</td>\n",
       "      <td>51</td>\n",
       "      <td>29</td>\n",
       "      <td>...</td>\n",
       "      <td>14</td>\n",
       "      <td>25</td>\n",
       "      <td>31</td>\n",
       "      <td>25</td>\n",
       "      <td>62</td>\n",
       "      <td>45</td>\n",
       "      <td>16</td>\n",
       "      <td>34</td>\n",
       "      <td>22</td>\n",
       "      <td>41</td>\n",
       "    </tr>\n",
       "  </tbody>\n",
       "</table>\n",
       "<p>5 rows × 501 columns</p>\n",
       "</div>"
      ],
      "text/plain": [
       "         date  s1_i1  s1_i2  s1_i3  s1_i4  s1_i5  s1_i6  s1_i7  s1_i8  s1_i9  \\\n",
       "0  2013-01-01     13     33     15     10     11     31     25     33     18   \n",
       "1  2013-01-02     11     43     30     11      6     36     23     37     23   \n",
       "2  2013-01-03     14     23     14      8      8     18     34     38     25   \n",
       "3  2013-01-04     13     18     10     19      9     19     36     54     22   \n",
       "4  2013-01-05     10     34     23     12      8     31     38     51     29   \n",
       "\n",
       "   ...  s10_i41  s10_i42  s10_i43  s10_i44  s10_i45  s10_i46  s10_i47  \\\n",
       "0  ...       12       20       24       17       45       37       11   \n",
       "1  ...       10       22       29       10       45       33       13   \n",
       "2  ...       17       27       43       20       56       28       16   \n",
       "3  ...       13       24       27       12       50       44       11   \n",
       "4  ...       14       25       31       25       62       45       16   \n",
       "\n",
       "   s10_i48  s10_i49  s10_i50  \n",
       "0       25       17       33  \n",
       "1       24       13       37  \n",
       "2       29       19       46  \n",
       "3       39       23       51  \n",
       "4       34       22       41  \n",
       "\n",
       "[5 rows x 501 columns]"
      ]
     },
     "execution_count": 10,
     "metadata": {},
     "output_type": "execute_result"
    }
   ],
   "source": [
    "df.head()"
   ]
  },
  {
   "cell_type": "code",
   "execution_count": 11,
   "metadata": {},
   "outputs": [],
   "source": [
    "#set datatime to index\n",
    "df['date'] =  pd.to_datetime(df['date'])\n",
    "df = df.set_index('date')"
   ]
  },
  {
   "cell_type": "markdown",
   "metadata": {},
   "source": [
    "#### Build a  Single-output model\n",
    "Single-output, multi-time-step predictions"
   ]
  },
  {
   "cell_type": "code",
   "execution_count": 12,
   "metadata": {},
   "outputs": [
    {
     "data": {
      "text/plain": [
       "['s1_i1', 's1_i2', 's1_i3', 's1_i4', 's1_i5']"
      ]
     },
     "execution_count": 12,
     "metadata": {},
     "output_type": "execute_result"
    }
   ],
   "source": [
    "# extract columns names\n",
    "columns = df.columns.tolist()\n",
    "columns[:5]"
   ]
  },
  {
   "cell_type": "code",
   "execution_count": 13,
   "metadata": {},
   "outputs": [
    {
     "data": {
      "text/plain": [
       "'s1_i1'"
      ]
     },
     "execution_count": 13,
     "metadata": {},
     "output_type": "execute_result"
    }
   ],
   "source": [
    "columns[0]"
   ]
  },
  {
   "cell_type": "code",
   "execution_count": 18,
   "metadata": {},
   "outputs": [
    {
     "data": {
      "text/plain": [
       "(1826, 1)"
      ]
     },
     "execution_count": 18,
     "metadata": {},
     "output_type": "execute_result"
    }
   ],
   "source": [
    "# try to predict 1 year sales of item 1 at store 1\n",
    "output_cols = columns[:1]\n",
    "\n",
    "def prepare_data(df,output_cols):\n",
    "    #load item 1 at store 1 sales values\n",
    "    prep_df = df[output_cols]\n",
    "    # convert df_1 to a dataframe\n",
    "    prep_df = pd.DataFrame(prep_df)\n",
    "    return prep_df\n",
    "\n",
    "prep_df = prepare_data(df,output_cols)\n",
    "prep_df.shape"
   ]
  },
  {
   "cell_type": "code",
   "execution_count": 19,
   "metadata": {},
   "outputs": [
    {
     "data": {
      "text/html": [
       "<div>\n",
       "<style scoped>\n",
       "    .dataframe tbody tr th:only-of-type {\n",
       "        vertical-align: middle;\n",
       "    }\n",
       "\n",
       "    .dataframe tbody tr th {\n",
       "        vertical-align: top;\n",
       "    }\n",
       "\n",
       "    .dataframe thead th {\n",
       "        text-align: right;\n",
       "    }\n",
       "</style>\n",
       "<table border=\"1\" class=\"dataframe\">\n",
       "  <thead>\n",
       "    <tr style=\"text-align: right;\">\n",
       "      <th></th>\n",
       "      <th>s1_i1</th>\n",
       "    </tr>\n",
       "    <tr>\n",
       "      <th>date</th>\n",
       "      <th></th>\n",
       "    </tr>\n",
       "  </thead>\n",
       "  <tbody>\n",
       "    <tr>\n",
       "      <th>2013-01-01</th>\n",
       "      <td>13</td>\n",
       "    </tr>\n",
       "    <tr>\n",
       "      <th>2013-01-02</th>\n",
       "      <td>11</td>\n",
       "    </tr>\n",
       "    <tr>\n",
       "      <th>2013-01-03</th>\n",
       "      <td>14</td>\n",
       "    </tr>\n",
       "    <tr>\n",
       "      <th>2013-01-04</th>\n",
       "      <td>13</td>\n",
       "    </tr>\n",
       "    <tr>\n",
       "      <th>2013-01-05</th>\n",
       "      <td>10</td>\n",
       "    </tr>\n",
       "  </tbody>\n",
       "</table>\n",
       "</div>"
      ],
      "text/plain": [
       "            s1_i1\n",
       "date             \n",
       "2013-01-01     13\n",
       "2013-01-02     11\n",
       "2013-01-03     14\n",
       "2013-01-04     13\n",
       "2013-01-05     10"
      ]
     },
     "execution_count": 19,
     "metadata": {},
     "output_type": "execute_result"
    }
   ],
   "source": [
    "prep_df.head()"
   ]
  },
  {
   "cell_type": "code",
   "execution_count": 135,
   "metadata": {},
   "outputs": [],
   "source": [
    "# split into train and valid sets\n",
    "\n",
    "output_length =365 # the number days we would like to predict\n",
    "#time_stepts in LSTM: the recurrent cell gets unrolled to a specified length \n",
    "time_steps = 14    #recurrent cell numbers,two weeks\n",
    "\n",
    "train_size = prep_df.shape[0] - (output_length+time_steps)\n",
    "test_size  = prep_df.shape[0] - train_size\n",
    "train = prep_df.iloc[:train_size,:]\n",
    "test  = prep_df.iloc[-test_size:,:]\n",
    "valid = prep_df.iloc[-output_length:,:]"
   ]
  },
  {
   "cell_type": "code",
   "execution_count": 138,
   "metadata": {},
   "outputs": [
    {
     "name": "stdout",
     "output_type": "stream",
     "text": [
      "All shapes are:    (train, ,test,valid)\n",
      "train dataset shape: (1447, 1)\n",
      "test dataset shape: (379, 1)\n",
      "valid dataset shape: (365, 1)\n"
     ]
    }
   ],
   "source": [
    "print('All shapes are:    (train, ,test,valid)')\n",
    "print(f'train dataset shape: {train.shape}')\n",
    "print(f'test dataset shape: {test.shape}')\n",
    "print(f'valid dataset shape: {valid.shape}')\n"
   ]
  },
  {
   "cell_type": "code",
   "execution_count": 139,
   "metadata": {},
   "outputs": [],
   "source": [
    "# Genarate window datasets\n",
    "# One of the most difficult parts of Deep Learning modelling is to get the dataset in the right format \n",
    "# The function completes that process\n",
    "X_train, y_train = lh.window_generator(train, train.iloc[:,:len(output_cols)],time_steps)\n",
    "X_test,  y_test  = lh.window_generator(test, test.iloc[:,:len(output_cols)],time_steps)\n"
   ]
  },
  {
   "cell_type": "code",
   "execution_count": 140,
   "metadata": {},
   "outputs": [
    {
     "name": "stdout",
     "output_type": "stream",
     "text": [
      "All shapes are: (X_train, y_train, X_test,  y_test)\n",
      "X_train shape: (1433, 14, 1)\n",
      "y_train shape: (1433, 1)\n",
      "X_test  shape: (365, 14, 1)\n",
      "y_test  shape: (365, 1)\n"
     ]
    }
   ],
   "source": [
    "print('All shapes are: (X_train, y_train, X_test,  y_test)')\n",
    "print(f'X_train shape: {X_train.shape}')\n",
    "print(f'y_train shape: {y_train.shape}')\n",
    "print(f'X_test  shape: {X_test.shape}')\n",
    "print(f'y_test  shape: {y_test.shape}')"
   ]
  },
  {
   "cell_type": "code",
   "execution_count": 141,
   "metadata": {},
   "outputs": [],
   "source": [
    "# call lstm model\n",
    "\n",
    "model_1 = lh.lstm_model(X_train)"
   ]
  },
  {
   "cell_type": "code",
   "execution_count": 142,
   "metadata": {},
   "outputs": [
    {
     "name": "stdout",
     "output_type": "stream",
     "text": [
      "Train on 1289 samples, validate on 144 samples\n",
      "Epoch 1/30\n",
      "1289/1289 [==============================] - 3s 2ms/sample - loss: 157.9311 - val_loss: 72.9147\n",
      "Epoch 2/30\n",
      "1289/1289 [==============================] - 2s 1ms/sample - loss: 42.8502 - val_loss: 43.0544\n",
      "Epoch 3/30\n",
      "1289/1289 [==============================] - 1s 1ms/sample - loss: 44.0757 - val_loss: 41.1134\n",
      "Epoch 4/30\n",
      "1289/1289 [==============================] - 1s 1ms/sample - loss: 44.2132 - val_loss: 40.4913\n",
      "Epoch 5/30\n",
      "1289/1289 [==============================] - 1s 1ms/sample - loss: 43.0273 - val_loss: 38.6091\n",
      "Epoch 6/30\n",
      "1289/1289 [==============================] - 1s 1ms/sample - loss: 42.0699 - val_loss: 36.9812\n",
      "Epoch 7/30\n",
      "1289/1289 [==============================] - 2s 1ms/sample - loss: 41.7382 - val_loss: 36.8282\n",
      "Epoch 8/30\n",
      "1289/1289 [==============================] - 1s 1ms/sample - loss: 39.9197 - val_loss: 35.7335\n",
      "Epoch 9/30\n",
      "1289/1289 [==============================] - 1s 1ms/sample - loss: 39.0749 - val_loss: 34.9472\n",
      "Epoch 10/30\n",
      "1289/1289 [==============================] - 1s 1ms/sample - loss: 38.0111 - val_loss: 33.8953\n",
      "Epoch 11/30\n",
      "1289/1289 [==============================] - 1s 1ms/sample - loss: 37.0870 - val_loss: 33.4048\n",
      "Epoch 12/30\n",
      "1289/1289 [==============================] - 1s 1ms/sample - loss: 36.1404 - val_loss: 33.3691\n",
      "Epoch 13/30\n",
      "1289/1289 [==============================] - 1s 1ms/sample - loss: 34.2855 - val_loss: 31.9024\n",
      "Epoch 14/30\n",
      "1289/1289 [==============================] - 1s 1ms/sample - loss: 34.3240 - val_loss: 33.1555\n",
      "Epoch 15/30\n",
      "1289/1289 [==============================] - 1s 1ms/sample - loss: 31.9659 - val_loss: 31.4037\n",
      "Epoch 16/30\n",
      "1289/1289 [==============================] - 2s 1ms/sample - loss: 31.2029 - val_loss: 31.2603\n",
      "Epoch 17/30\n",
      "1289/1289 [==============================] - 2s 1ms/sample - loss: 29.9918 - val_loss: 29.9451\n",
      "Epoch 18/30\n",
      "1289/1289 [==============================] - 1s 1ms/sample - loss: 29.9536 - val_loss: 30.2354\n",
      "Epoch 19/30\n",
      "1289/1289 [==============================] - 2s 1ms/sample - loss: 28.7018 - val_loss: 29.5276\n",
      "Epoch 20/30\n",
      "1289/1289 [==============================] - 2s 1ms/sample - loss: 28.3423 - val_loss: 29.3597\n",
      "Epoch 21/30\n",
      "1289/1289 [==============================] - 2s 1ms/sample - loss: 28.1773 - val_loss: 29.1477\n",
      "Epoch 22/30\n",
      "1289/1289 [==============================] - 2s 1ms/sample - loss: 28.1995 - val_loss: 29.0029\n",
      "Epoch 23/30\n",
      "1289/1289 [==============================] - 2s 1ms/sample - loss: 27.6354 - val_loss: 28.9198\n",
      "Epoch 24/30\n",
      "1289/1289 [==============================] - 2s 1ms/sample - loss: 27.6608 - val_loss: 29.2916\n",
      "Epoch 25/30\n",
      "1289/1289 [==============================] - 2s 1ms/sample - loss: 27.5634 - val_loss: 29.0999\n",
      "Epoch 26/30\n",
      "1289/1289 [==============================] - 2s 1ms/sample - loss: 27.0243 - val_loss: 29.4040\n",
      "Epoch 27/30\n",
      "1289/1289 [==============================] - 1s 1ms/sample - loss: 27.0618 - val_loss: 29.0415\n",
      "Epoch 28/30\n",
      "1289/1289 [==============================] - 1s 1ms/sample - loss: 26.6088 - val_loss: 29.3050\n",
      "Epoch 29/30\n",
      "1289/1289 [==============================] - 2s 1ms/sample - loss: 26.8159 - val_loss: 29.1080\n",
      "Epoch 30/30\n",
      "1289/1289 [==============================] - 2s 1ms/sample - loss: 26.5750 - val_loss: 29.5333\n"
     ]
    }
   ],
   "source": [
    "history = model_1.fit(\n",
    "    X_train, y_train,\n",
    "    epochs=30,\n",
    "    batch_size=16,\n",
    "    validation_split=0.1,\n",
    "    verbose=1,\n",
    "    shuffle=False)"
   ]
  },
  {
   "cell_type": "code",
   "execution_count": 143,
   "metadata": {},
   "outputs": [
    {
     "data": {
      "text/plain": [
       "(365, 1)"
      ]
     },
     "execution_count": 143,
     "metadata": {},
     "output_type": "execute_result"
    }
   ],
   "source": [
    "y_pred = model_1.predict(X_test)\n",
    "y_pred.shape"
   ]
  },
  {
   "cell_type": "code",
   "execution_count": 144,
   "metadata": {},
   "outputs": [
    {
     "data": {
      "text/plain": [
       "numpy.ndarray"
      ]
     },
     "execution_count": 144,
     "metadata": {},
     "output_type": "execute_result"
    }
   ],
   "source": [
    "type(y_pred)"
   ]
  },
  {
   "cell_type": "code",
   "execution_count": null,
   "metadata": {},
   "outputs": [],
   "source": []
  },
  {
   "cell_type": "code",
   "execution_count": 146,
   "metadata": {},
   "outputs": [
    {
     "data": {
      "text/html": [
       "<div>\n",
       "<style scoped>\n",
       "    .dataframe tbody tr th:only-of-type {\n",
       "        vertical-align: middle;\n",
       "    }\n",
       "\n",
       "    .dataframe tbody tr th {\n",
       "        vertical-align: top;\n",
       "    }\n",
       "\n",
       "    .dataframe thead th {\n",
       "        text-align: right;\n",
       "    }\n",
       "</style>\n",
       "<table border=\"1\" class=\"dataframe\">\n",
       "  <thead>\n",
       "    <tr style=\"text-align: right;\">\n",
       "      <th></th>\n",
       "      <th>s1_i1_forecast</th>\n",
       "    </tr>\n",
       "    <tr>\n",
       "      <th>date</th>\n",
       "      <th></th>\n",
       "    </tr>\n",
       "  </thead>\n",
       "  <tbody>\n",
       "    <tr>\n",
       "      <th>2017-01-01</th>\n",
       "      <td>18.347805</td>\n",
       "    </tr>\n",
       "    <tr>\n",
       "      <th>2017-01-02</th>\n",
       "      <td>17.651955</td>\n",
       "    </tr>\n",
       "    <tr>\n",
       "      <th>2017-01-03</th>\n",
       "      <td>16.559359</td>\n",
       "    </tr>\n",
       "    <tr>\n",
       "      <th>2017-01-04</th>\n",
       "      <td>14.314113</td>\n",
       "    </tr>\n",
       "    <tr>\n",
       "      <th>2017-01-05</th>\n",
       "      <td>16.391363</td>\n",
       "    </tr>\n",
       "    <tr>\n",
       "      <th>...</th>\n",
       "      <td>...</td>\n",
       "    </tr>\n",
       "    <tr>\n",
       "      <th>2017-12-27</th>\n",
       "      <td>15.027835</td>\n",
       "    </tr>\n",
       "    <tr>\n",
       "      <th>2017-12-28</th>\n",
       "      <td>14.296826</td>\n",
       "    </tr>\n",
       "    <tr>\n",
       "      <th>2017-12-29</th>\n",
       "      <td>15.513728</td>\n",
       "    </tr>\n",
       "    <tr>\n",
       "      <th>2017-12-30</th>\n",
       "      <td>15.294107</td>\n",
       "    </tr>\n",
       "    <tr>\n",
       "      <th>2017-12-31</th>\n",
       "      <td>19.394447</td>\n",
       "    </tr>\n",
       "  </tbody>\n",
       "</table>\n",
       "<p>365 rows × 1 columns</p>\n",
       "</div>"
      ],
      "text/plain": [
       "            s1_i1_forecast\n",
       "date                      \n",
       "2017-01-01       18.347805\n",
       "2017-01-02       17.651955\n",
       "2017-01-03       16.559359\n",
       "2017-01-04       14.314113\n",
       "2017-01-05       16.391363\n",
       "...                    ...\n",
       "2017-12-27       15.027835\n",
       "2017-12-28       14.296826\n",
       "2017-12-29       15.513728\n",
       "2017-12-30       15.294107\n",
       "2017-12-31       19.394447\n",
       "\n",
       "[365 rows x 1 columns]"
      ]
     },
     "execution_count": 146,
     "metadata": {},
     "output_type": "execute_result"
    }
   ],
   "source": [
    "df_forecast = pd.DataFrame(y_pred, index=valid.index, columns=valid.columns + '_forecast')\n",
    "df_forecast"
   ]
  },
  {
   "cell_type": "code",
   "execution_count": 149,
   "metadata": {},
   "outputs": [
    {
     "data": {
      "text/html": [
       "<div>\n",
       "<style scoped>\n",
       "    .dataframe tbody tr th:only-of-type {\n",
       "        vertical-align: middle;\n",
       "    }\n",
       "\n",
       "    .dataframe tbody tr th {\n",
       "        vertical-align: top;\n",
       "    }\n",
       "\n",
       "    .dataframe thead th {\n",
       "        text-align: right;\n",
       "    }\n",
       "</style>\n",
       "<table border=\"1\" class=\"dataframe\">\n",
       "  <thead>\n",
       "    <tr style=\"text-align: right;\">\n",
       "      <th></th>\n",
       "      <th>s1_i1</th>\n",
       "    </tr>\n",
       "    <tr>\n",
       "      <th>date</th>\n",
       "      <th></th>\n",
       "    </tr>\n",
       "  </thead>\n",
       "  <tbody>\n",
       "    <tr>\n",
       "      <th>2017-01-01</th>\n",
       "      <td>19</td>\n",
       "    </tr>\n",
       "    <tr>\n",
       "      <th>2017-01-02</th>\n",
       "      <td>15</td>\n",
       "    </tr>\n",
       "    <tr>\n",
       "      <th>2017-01-03</th>\n",
       "      <td>10</td>\n",
       "    </tr>\n",
       "    <tr>\n",
       "      <th>2017-01-04</th>\n",
       "      <td>16</td>\n",
       "    </tr>\n",
       "    <tr>\n",
       "      <th>2017-01-05</th>\n",
       "      <td>14</td>\n",
       "    </tr>\n",
       "    <tr>\n",
       "      <th>...</th>\n",
       "      <td>...</td>\n",
       "    </tr>\n",
       "    <tr>\n",
       "      <th>2017-12-27</th>\n",
       "      <td>14</td>\n",
       "    </tr>\n",
       "    <tr>\n",
       "      <th>2017-12-28</th>\n",
       "      <td>19</td>\n",
       "    </tr>\n",
       "    <tr>\n",
       "      <th>2017-12-29</th>\n",
       "      <td>15</td>\n",
       "    </tr>\n",
       "    <tr>\n",
       "      <th>2017-12-30</th>\n",
       "      <td>27</td>\n",
       "    </tr>\n",
       "    <tr>\n",
       "      <th>2017-12-31</th>\n",
       "      <td>23</td>\n",
       "    </tr>\n",
       "  </tbody>\n",
       "</table>\n",
       "<p>365 rows × 1 columns</p>\n",
       "</div>"
      ],
      "text/plain": [
       "            s1_i1\n",
       "date             \n",
       "2017-01-01     19\n",
       "2017-01-02     15\n",
       "2017-01-03     10\n",
       "2017-01-04     16\n",
       "2017-01-05     14\n",
       "...           ...\n",
       "2017-12-27     14\n",
       "2017-12-28     19\n",
       "2017-12-29     15\n",
       "2017-12-30     27\n",
       "2017-12-31     23\n",
       "\n",
       "[365 rows x 1 columns]"
      ]
     },
     "execution_count": 149,
     "metadata": {},
     "output_type": "execute_result"
    }
   ],
   "source": [
    "valid"
   ]
  },
  {
   "cell_type": "code",
   "execution_count": 150,
   "metadata": {},
   "outputs": [
    {
     "name": "stdout",
     "output_type": "stream",
     "text": [
      "5.623309595468694\n"
     ]
    }
   ],
   "source": [
    "RMSE  = th.rmse_calculate(df_forecast,valid)\n",
    "print(RMSE)"
   ]
  },
  {
   "cell_type": "code",
   "execution_count": null,
   "metadata": {},
   "outputs": [],
   "source": []
  },
  {
   "cell_type": "code",
   "execution_count": 151,
   "metadata": {},
   "outputs": [],
   "source": [
    "df_forecast_3months = df_forecast[-92:]\n",
    "valid_3months = valid[-92:]"
   ]
  },
  {
   "cell_type": "code",
   "execution_count": 152,
   "metadata": {},
   "outputs": [
    {
     "name": "stdout",
     "output_type": "stream",
     "text": [
      "5.377468583055339\n"
     ]
    }
   ],
   "source": [
    "RMSE_3months  = th.rmse_calculate(df_forecast_3months,valid_3months)\n",
    "print(RMSE_3months)"
   ]
  },
  {
   "cell_type": "code",
   "execution_count": null,
   "metadata": {},
   "outputs": [],
   "source": [
    "#plot forecast VS actuals\n",
    "\n"
   ]
  },
  {
   "cell_type": "markdown",
   "metadata": {},
   "source": [
    "#### Build a  multi-output predictions\n",
    "Single-output multi-output predictions."
   ]
  },
  {
   "cell_type": "code",
   "execution_count": null,
   "metadata": {},
   "outputs": [],
   "source": []
  },
  {
   "cell_type": "code",
   "execution_count": null,
   "metadata": {},
   "outputs": [],
   "source": []
  },
  {
   "cell_type": "code",
   "execution_count": null,
   "metadata": {},
   "outputs": [],
   "source": []
  },
  {
   "cell_type": "code",
   "execution_count": null,
   "metadata": {},
   "outputs": [],
   "source": []
  }
 ],
 "metadata": {
  "kernelspec": {
   "display_name": "Python 3",
   "language": "python",
   "name": "python3"
  },
  "language_info": {
   "codemirror_mode": {
    "name": "ipython",
    "version": 3
   },
   "file_extension": ".py",
   "mimetype": "text/x-python",
   "name": "python",
   "nbconvert_exporter": "python",
   "pygments_lexer": "ipython3",
   "version": "3.7.6"
  }
 },
 "nbformat": 4,
 "nbformat_minor": 4
}
